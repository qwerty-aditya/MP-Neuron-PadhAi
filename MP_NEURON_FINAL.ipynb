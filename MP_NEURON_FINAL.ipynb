{
 "cells": [
  {
   "cell_type": "code",
   "execution_count": 1,
   "metadata": {
    "colab": {},
    "colab_type": "code",
    "id": "y8zi5cmJ4VTG"
   },
   "outputs": [],
   "source": [
    "import numpy as np\n",
    "import pandas as pd\n",
    "import matplotlib.pyplot as plt\n",
    "from sklearn.preprocessing import LabelEncoder,MinMaxScaler, StandardScaler\n",
    "from sklearn.model_selection import train_test_split, ParameterGrid\n",
    "from sklearn.metrics import accuracy_score, confusion_matrix, mean_squared_error, log_loss\n",
    "import operator\n",
    "import json\n",
    "from IPython import display\n",
    "import os\n",
    "import warnings\n",
    "\n",
    "np.random.seed(0)\n",
    "warnings.filterwarnings(\"ignore\")\n",
    "THRESHOLD = 4"
   ]
  },
  {
   "cell_type": "markdown",
   "metadata": {
    "colab_type": "text",
    "id": "rNloM4l84VTU"
   },
   "source": [
    "Task: To predict whether the user likes the mobile phone or not. <br>\n",
    "Assumption: If the average rating of mobile >= threshold, then the user likes it, otherwise not."
   ]
  },
  {
   "cell_type": "markdown",
   "metadata": {
    "colab_type": "text",
    "id": "vIQ6VfEM4VTW"
   },
   "source": [
    "<b>Missing values:</b><br>\n",
    "'Also Known As'(459),'Applications'(421),'Audio Features'(437),'Bezel-less display'(266),'Browser'(449),'Build Material'(338),'Co-Processor'(451),'Display Colour'(457),'Mobile High-Definition Link(MHL)'(472),'Music'(447)\n",
    "'Email','Fingerprint Sensor Position'(174),'Games'(446),'HDMI'(454),'Heart Rate Monitor'(467),'IRIS Scanner'(467),\n",
    "'Optical Image Stabilisation'(219),'Other Facilities'(444),'Phone Book'(444),'Physical Aperture'(87),'Quick Charging'(122),'Ring Tone'(444),'Ruggedness'(430),SAR Value(315),'SIM 3'(472),'SMS'(470)', 'Screen Protection'(229),'Screen to Body Ratio (claimed by the brand)'(428),'Sensor'(242),'Software Based Aperture'(473),\n",
    "'Special Features'(459),'Standby time'(334),'Stylus'(473),'TalkTime'(259), 'USB Type-C'(374),'Video Player'(456),\n",
    "'Video Recording Features'(458),'Waterproof'(398),'Wireless Charging','USB OTG Support'(159), 'Video ,'Recording'(113),'Java'(471),'Browser'(448)\n",
    "\n",
    "<b>Very low variance:</b><br>\n",
    "'Architecture'(most entries are 64-bit),'Audio Jack','GPS','Loudspeaker','Network','Network Support','Other Sensors'(28),'SIM Size', 'VoLTE'\n",
    "\n",
    "\n",
    "<b>Multivalued:</b><br>\n",
    "'Colours','Custom UI','Model'(1),'Other Sensors','Launch Date'\n",
    "\n",
    "<b>Not important:</b><br>\n",
    "'Bluetooth', 'Settings'(75),'Wi-Fi','Wi-Fi Features'\n",
    "\n",
    "<b>Doubtful:</b><br>\n",
    "'Aspect Ratio','Autofocus','Brand','Camera Features','Fingerprint Sensor'(very few entries are missing),\n",
    "'Fingerprint Sensor Position', 'Graphics'(multivalued),'Image resolution'(multivalued),'SIM Size','Sim Slot(s)', 'User Available Storage', 'SIM 1', 'SIM 2','Shooting Modes', 'Touch Screen'(24), 'USB Connectivity'\n",
    "    \n",
    "<b>To check:</b><br>\n",
    "'Display Type','Expandable Memory','FM Radio'\n",
    "\n",
    "<b>High Correlation with other features</b><br>\n",
    "'SIM Slot(s)' high correlation with SIM1\n",
    "'Weight' has high high correlation with capacity , screen-to-body ratio\n",
    "'Height' - screen size is also there\n",
    "    \n",
    "<b>Given a mobile, we can't directly get these features</b><br>\n",
    "'Rating Count', 'Review Count'\n",
    "\n",
    "<b>Keeping:</b><br>\n",
    "'Capacity','Flash'(17),'Height'(22),'Internal Memory'(20, require cleaning),'Operating System'(25, require cleaning), 'Pixel Density'(1, clean it),'Processor'(22, clean it), 'RAM'(17, clean), 'Rating','Resolution'(cleaning), 'Screen Resolution','Screen Size', 'Thickness'(22), 'Type','User Replaceable','Weight'(cleaning),'Sim Size'(), 'Other Sensors'(28), 'Screen to Body Ratio (calculated)','Width',\n"
   ]
  },
  {
   "cell_type": "code",
   "execution_count": 2,
   "metadata": {
    "colab": {
     "base_uri": "https://localhost:8080/",
     "height": 90
    },
    "colab_type": "code",
    "id": "mi0OUTOX4VTa",
    "outputId": "82eb03c8-54b7-4aaf-8cab-3cae6f3e0a9d"
   },
   "outputs": [
    {
     "name": "stdout",
     "output_type": "stream",
     "text": [
      "Number of data points in train: 355\n",
      "Number of features in train: 99\n",
      "Number of data points in test: 119\n",
      "Number of features in test: 98\n"
     ]
    }
   ],
   "source": [
    "# read data from file\n",
    "train = pd.read_csv(\"train.csv\") \n",
    "test = pd.read_csv(\"test.csv\")\n",
    "\n",
    "# check the number of features and data points in train\n",
    "print(\"Number of data points in train: %d\" % train.shape[0])\n",
    "print(\"Number of features in train: %d\" % train.shape[1])\n",
    "\n",
    "# check the number of features and data points in test\n",
    "print(\"Number of data points in test: %d\" % test.shape[0])\n",
    "print(\"Number of features in test: %d\" % test.shape[1])"
   ]
  },
  {
   "cell_type": "code",
   "execution_count": 3,
   "metadata": {
    "colab": {},
    "colab_type": "code",
    "id": "iIe79D1_4VTl"
   },
   "outputs": [],
   "source": [
    "def data_clean(data):\n",
    "    \n",
    "    # Let's first remove all missing value features\n",
    "    columns_to_remove = ['Also Known As','Applications','Audio Features','Bezel-less display'\n",
    "                         'Browser','Build Material','Co-Processor','Browser'\n",
    "                         'Display Colour','Mobile High-Definition Link(MHL)',\n",
    "                         'Music', 'Email','Fingerprint Sensor Position',\n",
    "                         'Games','HDMI','Heart Rate Monitor','IRIS Scanner', \n",
    "                         'Optical Image Stabilisation','Other Facilities',\n",
    "                         'Phone Book','Physical Aperture','Quick Charging',\n",
    "                         'Ring Tone','Ruggedness','SAR Value','SIM 3','SMS',\n",
    "                         'Screen Protection','Screen to Body Ratio (claimed by the brand)',\n",
    "                         'Sensor','Software Based Aperture', 'Special Features',\n",
    "                         'Standby time','Stylus','TalkTime', 'USB Type-C',\n",
    "                         'Video Player', 'Video Recording Features','Waterproof',\n",
    "                         'Wireless Charging','USB OTG Support', 'Video Recording','Java']\n",
    "\n",
    "    columns_to_retain = list(set(data.columns)-set(columns_to_remove))\n",
    "    data = data[columns_to_retain]\n",
    "\n",
    "    #Features having very low variance \n",
    "    columns_to_remove = ['Architecture','Audio Jack','GPS','Loudspeaker','Network','Network Support','VoLTE']\n",
    "    columns_to_retain = list(set(data.columns)-set(columns_to_remove))\n",
    "    data = data[columns_to_retain]\n",
    "\n",
    "    # Multivalued:\n",
    "    columns_to_remove = ['Architecture','Launch Date','Audio Jack','GPS','Loudspeaker','Network','Network Support','VoLTE', 'Custom UI']\n",
    "    columns_to_retain = list(set(data.columns)-set(columns_to_remove))\n",
    "    data = data[columns_to_retain]\n",
    "\n",
    "    # Not much important\n",
    "    columns_to_remove = ['Bluetooth', 'Settings','Wi-Fi','Wi-Fi Features']\n",
    "    columns_to_retain = list(set(data.columns)-set(columns_to_remove))\n",
    "    data = data[columns_to_retain]\n",
    "    \n",
    "    return data"
   ]
  },
  {
   "cell_type": "markdown",
   "metadata": {
    "colab_type": "text",
    "id": "e3x-ZpOU4VTr"
   },
   "source": [
    "# Removing features"
   ]
  },
  {
   "cell_type": "code",
   "execution_count": 4,
   "metadata": {
    "colab": {},
    "colab_type": "code",
    "id": "hssyah074VTu"
   },
   "outputs": [],
   "source": [
    "train = data_clean(train)\n",
    "test = data_clean(test)"
   ]
  },
  {
   "cell_type": "markdown",
   "metadata": {
    "colab_type": "text",
    "id": "Pmb9uVaH4VT0"
   },
   "source": [
    "removing all those data points in which more than 15 features are missing "
   ]
  },
  {
   "cell_type": "code",
   "execution_count": 5,
   "metadata": {
    "colab": {},
    "colab_type": "code",
    "id": "a3FQ95YT4VT2"
   },
   "outputs": [],
   "source": [
    "train = train[(train.isnull().sum(axis=1) <= 15)]\n",
    "# You shouldn't remove data points from test set\n",
    "#test = test[(test.isnull().sum(axis=1) <= 15)]"
   ]
  },
  {
   "cell_type": "code",
   "execution_count": 6,
   "metadata": {
    "colab": {
     "base_uri": "https://localhost:8080/",
     "height": 90
    },
    "colab_type": "code",
    "id": "80GzXsPT4VT8",
    "outputId": "b0a971f5-eb3e-4c87-c7c8-8fc038cd87da"
   },
   "outputs": [
    {
     "name": "stdout",
     "output_type": "stream",
     "text": [
      "Number of data points in train: 341\n",
      "Number of features in train: 47\n",
      "Number of data points in test: 119\n",
      "Number of features in test: 46\n"
     ]
    }
   ],
   "source": [
    "# check the number of features and data points in train\n",
    "print(\"Number of data points in train: %d\" % train.shape[0])\n",
    "print(\"Number of features in train: %d\" % train.shape[1])\n",
    "\n",
    "# check the number of features and data points in test\n",
    "print(\"Number of data points in test: %d\" % test.shape[0])\n",
    "print(\"Number of features in test: %d\" % test.shape[1])"
   ]
  },
  {
   "cell_type": "markdown",
   "metadata": {
    "colab_type": "text",
    "id": "g8xBlxMq4VUI"
   },
   "source": [
    "# Filling Missing values"
   ]
  },
  {
   "cell_type": "code",
   "execution_count": 7,
   "metadata": {
    "colab": {},
    "colab_type": "code",
    "id": "Lbq6my3D4VUL"
   },
   "outputs": [],
   "source": [
    "def for_integer(test):\n",
    "    try:\n",
    "        test = test.strip()\n",
    "        return int(test.split(' ')[0])\n",
    "    except IOError:\n",
    "           pass\n",
    "    except ValueError:\n",
    "        pass\n",
    "    except:\n",
    "        pass\n",
    "\n",
    "def for_string(test):\n",
    "    try:\n",
    "        test = test.strip()\n",
    "        return (test.split(' ')[0])\n",
    "    except IOError:\n",
    "        pass\n",
    "    except ValueError:\n",
    "        pass\n",
    "    except:\n",
    "        pass\n",
    "\n",
    "def for_float(test):\n",
    "    try:\n",
    "        test = test.strip()\n",
    "        return float(test.split(' ')[0])\n",
    "    except IOError:\n",
    "        pass\n",
    "    except ValueError:\n",
    "        pass\n",
    "    except:\n",
    "        pass\n",
    "def find_freq(test):\n",
    "    try:\n",
    "        test = test.strip()\n",
    "        test = test.split(' ')\n",
    "        if test[2][0] == '(':\n",
    "            return float(test[2][1:])\n",
    "        return float(test[2])\n",
    "    except IOError:\n",
    "        pass\n",
    "    except ValueError:\n",
    "        pass\n",
    "    except:\n",
    "        pass\n",
    "\n",
    "    \n",
    "def for_Internal_Memory(test):\n",
    "    try:\n",
    "        test = test.strip()\n",
    "        test = test.split(' ')\n",
    "        if test[1] == 'GB':\n",
    "            return int(test[0])\n",
    "        if test[1] == 'MB':\n",
    "#             print(\"here\")\n",
    "            return (int(test[0]) * 0.001)\n",
    "    except IOError:\n",
    "           pass\n",
    "    except ValueError:\n",
    "        pass\n",
    "    except:\n",
    "        pass\n",
    "    \n",
    "def find_freq(test):\n",
    "    try:\n",
    "        test = test.strip()\n",
    "        test = test.split(' ')\n",
    "        if test[2][0] == '(':\n",
    "            return float(test[2][1:])\n",
    "        return float(test[2])\n",
    "    except IOError:\n",
    "        pass\n",
    "    except ValueError:\n",
    "        pass\n",
    "    except:\n",
    "        pass\n"
   ]
  },
  {
   "cell_type": "code",
   "execution_count": 8,
   "metadata": {
    "colab": {},
    "colab_type": "code",
    "id": "0JayxiPs4VUZ"
   },
   "outputs": [],
   "source": [
    "def data_clean_2(x):\n",
    "    data = x.copy()\n",
    "    \n",
    "    data['Capacity'] = data['Capacity'].apply(for_integer)\n",
    "\n",
    "    data['Height'] = data['Height'].apply(for_float)\n",
    "    data['Height'] = data['Height'].fillna(data['Height'].mean())\n",
    "\n",
    "    data['Internal Memory'] = data['Internal Memory'].apply(for_Internal_Memory)\n",
    "\n",
    "    data['Pixel Density'] = data['Pixel Density'].apply(for_integer)\n",
    "\n",
    "    data['Internal Memory'] = data['Internal Memory'].fillna(data['Internal Memory'].median())\n",
    "    data['Internal Memory'] = data['Internal Memory'].astype(int)\n",
    "\n",
    "    data['RAM'] = data['RAM'].apply(for_integer)\n",
    "    data['RAM'] = data['RAM'].fillna(data['RAM'].median())\n",
    "    data['RAM'] = data['RAM'].astype(int)\n",
    "\n",
    "    data['Resolution'] = data['Resolution'].apply(for_integer)\n",
    "    data['Resolution'] = data['Resolution'].fillna(data['Resolution'].median())\n",
    "    data['Resolution'] = data['Resolution'].astype(int)\n",
    "\n",
    "    data['Screen Size'] = data['Screen Size'].apply(for_float)\n",
    "\n",
    "    data['Thickness'] = data['Thickness'].apply(for_float)\n",
    "    data['Thickness'] = data['Thickness'].fillna(data['Thickness'].mean())\n",
    "    data['Thickness'] = data['Thickness'].round(2)\n",
    "\n",
    "    data['Type'] = data['Type'].fillna('Li-Polymer')\n",
    "\n",
    "    data['Screen to Body Ratio (calculated)'] = data['Screen to Body Ratio (calculated)'].apply(for_float)\n",
    "    data['Screen to Body Ratio (calculated)'] = data['Screen to Body Ratio (calculated)'].fillna(data['Screen to Body Ratio (calculated)'].mean())\n",
    "    data['Screen to Body Ratio (calculated)'] = data['Screen to Body Ratio (calculated)'].round(2)\n",
    "\n",
    "    data['Width'] = data['Width'].apply(for_float)\n",
    "    data['Width'] = data['Width'].fillna(data['Width'].mean())\n",
    "    data['Width'] = data['Width'].round(2)\n",
    "\n",
    "    data['Flash'][data['Flash'].isna() == True] = \"Other\"\n",
    "\n",
    "    data['User Replaceable'][data['User Replaceable'].isna() == True] = \"Other\"\n",
    "\n",
    "    data['Num_cores'] = data['Processor'].apply(for_string)\n",
    "    data['Num_cores'][data['Num_cores'].isna() == True] = \"Other\"\n",
    "\n",
    "\n",
    "    data['Processor_frequency'] = data['Processor'].apply(find_freq)\n",
    "    #because there is one entry with 208MHz values, to convert it to GHz\n",
    "    data['Processor_frequency'][data['Processor_frequency'] > 200] = 0.208\n",
    "    data['Processor_frequency'] = data['Processor_frequency'].fillna(data['Processor_frequency'].mean())\n",
    "    data['Processor_frequency'] = data['Processor_frequency'].round(2)\n",
    "\n",
    "    data['Camera Features'][data['Camera Features'].isna() == True] = \"Other\"\n",
    "\n",
    "    #simplifyig Operating System to os_name for simplicity\n",
    "    data['os_name'] = data['Operating System'].apply(for_string)\n",
    "    data['os_name'][data['os_name'].isna() == True] = \"Other\"\n",
    "\n",
    "    data['Sim1'] = data['SIM 1'].apply(for_string)\n",
    "\n",
    "    data['SIM Size'][data['SIM Size'].isna() == True] = \"Other\"\n",
    "\n",
    "    data['Image Resolution'][data['Image Resolution'].isna() == True] = \"Other\"\n",
    "\n",
    "    data['Fingerprint Sensor'][data['Fingerprint Sensor'].isna() == True] = \"Other\"\n",
    "\n",
    "    data['Expandable Memory'][data['Expandable Memory'].isna() == True] = \"No\"\n",
    "\n",
    "    data['Weight'] = data['Weight'].apply(for_integer)\n",
    "    data['Weight'] = data['Weight'].fillna(data['Weight'].mean())\n",
    "    data['Weight'] = data['Weight'].astype(int)\n",
    "\n",
    "    data['SIM 2'] = data['SIM 2'].apply(for_string)\n",
    "    data['SIM 2'][data['SIM 2'].isna() == True] = \"Other\"\n",
    "    \n",
    "    return data"
   ]
  },
  {
   "cell_type": "code",
   "execution_count": 9,
   "metadata": {
    "colab": {
     "base_uri": "https://localhost:8080/",
     "height": 1280
    },
    "colab_type": "code",
    "id": "Anp_k_kV4VUe",
    "outputId": "4f3ee421-6f25-42ae-de57-a031240bfdfc"
   },
   "outputs": [
    {
     "name": "stdout",
     "output_type": "stream",
     "text": [
      "Number of data points in train: 341\n",
      "Number of features in train: 51\n",
      "Number of data points in test: 119\n",
      "Number of features in test: 50\n"
     ]
    }
   ],
   "source": [
    "train = data_clean_2(train)\n",
    "test = data_clean_2(test)\n",
    "\n",
    "# check the number of features and data points in train\n",
    "print(\"Number of data points in train: %d\" % train.shape[0])\n",
    "print(\"Number of features in train: %d\" % train.shape[1])\n",
    "\n",
    "# check the number of features and data points in test\n",
    "print(\"Number of data points in test: %d\" % test.shape[0])\n",
    "print(\"Number of features in test: %d\" % test.shape[1])"
   ]
  },
  {
   "cell_type": "markdown",
   "metadata": {
    "colab_type": "text",
    "id": "PGzIyW-L4VUm"
   },
   "source": [
    "Not very important feature"
   ]
  },
  {
   "cell_type": "code",
   "execution_count": 10,
   "metadata": {
    "colab": {},
    "colab_type": "code",
    "id": "RueUYONf4VUo"
   },
   "outputs": [],
   "source": [
    "def data_clean_3(x):\n",
    "    \n",
    "    data = x.copy()\n",
    "\n",
    "    columns_to_remove = ['User Available Storage','SIM Size','Chipset','Processor','Autofocus','Aspect Ratio','Touch Screen',\n",
    "                        'Bezel-less display','Operating System','SIM 1','USB Connectivity','Other Sensors','Graphics','FM Radio',\n",
    "                        'NFC','Shooting Modes','Browser','Display Colour' ]\n",
    "\n",
    "    columns_to_retain = list(set(data.columns)-set(columns_to_remove))\n",
    "    data = data[columns_to_retain]\n",
    "\n",
    "\n",
    "    columns_to_remove = [ 'Screen Resolution','User Replaceable','Camera Features',\n",
    "                        'Thickness', 'Display Type']\n",
    "\n",
    "    columns_to_retain = list(set(data.columns)-set(columns_to_remove))\n",
    "    data = data[columns_to_retain]\n",
    "\n",
    "\n",
    "    columns_to_remove = ['Fingerprint Sensor', 'Flash', 'Rating Count', 'Review Count','Image Resolution','Type','Expandable Memory',\\\n",
    "                        'Colours','Width','Model']\n",
    "    columns_to_retain = list(set(data.columns)-set(columns_to_remove))\n",
    "    data = data[columns_to_retain]\n",
    "\n",
    "    return data"
   ]
  },
  {
   "cell_type": "code",
   "execution_count": 11,
   "metadata": {
    "colab": {
     "base_uri": "https://localhost:8080/",
     "height": 90
    },
    "colab_type": "code",
    "id": "3HWTdu5a4VUv",
    "outputId": "55fc4f9c-d377-4496-ff9d-6756efddd13a"
   },
   "outputs": [
    {
     "name": "stdout",
     "output_type": "stream",
     "text": [
      "Number of data points in train: 341\n",
      "Number of features in train: 18\n",
      "Number of data points in test: 119\n",
      "Number of features in test: 17\n"
     ]
    }
   ],
   "source": [
    "train = data_clean_3(train)\n",
    "test = data_clean_3(test)\n",
    "\n",
    "# check the number of features and data points in train\n",
    "print(\"Number of data points in train: %d\" % train.shape[0])\n",
    "print(\"Number of features in train: %d\" % train.shape[1])\n",
    "\n",
    "# check the number of features and data points in test\n",
    "print(\"Number of data points in test: %d\" % test.shape[0])\n",
    "print(\"Number of features in test: %d\" % test.shape[1])"
   ]
  },
  {
   "cell_type": "code",
   "execution_count": 12,
   "metadata": {
    "colab": {
     "base_uri": "https://localhost:8080/",
     "height": 598
    },
    "colab_type": "code",
    "id": "XSVPo33Q4VU2",
    "outputId": "343084bc-9269-4047-aafb-04f129f5e604"
   },
   "outputs": [
    {
     "name": "stdout",
     "output_type": "stream",
     "text": [
      "(460, 17)\n",
      "Index(['PhoneId', 'SIM 2', 'Screen to Body Ratio (calculated)', 'RAM',\n",
      "       'Capacity', 'SIM Slot(s)', 'Brand', 'Height', 'Sim1', 'Weight',\n",
      "       'Pixel Density', 'Num_cores', 'Resolution', 'Screen Size',\n",
      "       'Internal Memory', 'Processor_frequency', 'os_name'],\n",
      "      dtype='object')\n",
      "(460, 87)\n",
      "Index(['PhoneId', 'Screen to Body Ratio (calculated)', 'RAM', 'Capacity',\n",
      "       'Height', 'Weight', 'Pixel Density', 'Resolution', 'Screen Size',\n",
      "       'Internal Memory', 'Processor_frequency', 'SIM 2_2G', 'SIM 2_3G',\n",
      "       'SIM 2_4G', 'SIM 2_Other', 'SIM Slot(s)_Dual SIM, GSM+CDMA',\n",
      "       'SIM Slot(s)_Dual SIM, GSM+GSM',\n",
      "       'SIM Slot(s)_Dual SIM, GSM+GSM, Dual VoLTE',\n",
      "       'SIM Slot(s)_Single SIM, GSM', 'Brand_10.or', 'Brand_Apple',\n",
      "       'Brand_Asus', 'Brand_Billion', 'Brand_Blackberry', 'Brand_Comio',\n",
      "       'Brand_Coolpad', 'Brand_Do', 'Brand_Gionee', 'Brand_Google',\n",
      "       'Brand_HTC', 'Brand_Honor', 'Brand_Huawei', 'Brand_InFocus',\n",
      "       'Brand_Infinix', 'Brand_Intex', 'Brand_Itel', 'Brand_Jivi',\n",
      "       'Brand_Karbonn', 'Brand_LG', 'Brand_Lava', 'Brand_LeEco',\n",
      "       'Brand_Lenovo', 'Brand_Lephone', 'Brand_Lyf', 'Brand_Meizu',\n",
      "       'Brand_Micromax', 'Brand_Mobiistar', 'Brand_Moto', 'Brand_Motorola',\n",
      "       'Brand_Nokia', 'Brand_Nubia', 'Brand_OPPO', 'Brand_OnePlus',\n",
      "       'Brand_Oppo', 'Brand_Panasonic', 'Brand_Razer', 'Brand_Realme',\n",
      "       'Brand_Reliance', 'Brand_Samsung', 'Brand_Sony', 'Brand_Spice',\n",
      "       'Brand_Tecno', 'Brand_Ulefone', 'Brand_VOTO', 'Brand_Vivo',\n",
      "       'Brand_Xiaomi', 'Brand_Xiaomi Poco', 'Brand_Yu', 'Brand_iVooMi',\n",
      "       'Sim1_2G', 'Sim1_3G', 'Sim1_4G', 'Num_cores_312', 'Num_cores_Deca',\n",
      "       'Num_cores_Dual', 'Num_cores_Hexa', 'Num_cores_Octa', 'Num_cores_Other',\n",
      "       'Num_cores_Quad', 'Num_cores_Tru-Octa', 'os_name_Android',\n",
      "       'os_name_Blackberry', 'os_name_KAI', 'os_name_Nokia', 'os_name_Other',\n",
      "       'os_name_Tizen', 'os_name_iOS'],\n",
      "      dtype='object')\n"
     ]
    }
   ],
   "source": [
    "# one hot encoding\n",
    "\n",
    "train_ids = train['PhoneId']\n",
    "test_ids = test['PhoneId']\n",
    "\n",
    "cols = list(test.columns)\n",
    "cols.remove('PhoneId')\n",
    "cols.insert(0, 'PhoneId')\n",
    "\n",
    "combined = pd.concat([train.drop('Rating', axis=1)[cols], test[cols]])\n",
    "print(combined.shape)\n",
    "print(combined.columns)\n",
    "\n",
    "combined = pd.get_dummies(combined)\n",
    "print(combined.shape)\n",
    "print(combined.columns)\n",
    "\n",
    "train_new = combined[combined['PhoneId'].isin(train_ids)]\n",
    "test_new = combined[combined['PhoneId'].isin(test_ids)]"
   ]
  },
  {
   "cell_type": "code",
   "execution_count": 13,
   "metadata": {
    "colab": {},
    "colab_type": "code",
    "id": "xryXp3M_4VU9"
   },
   "outputs": [],
   "source": [
    "train_new = train_new.merge(train[['PhoneId', 'Rating']], on='PhoneId')"
   ]
  },
  {
   "cell_type": "code",
   "execution_count": 14,
   "metadata": {
    "colab": {
     "base_uri": "https://localhost:8080/",
     "height": 90
    },
    "colab_type": "code",
    "id": "nqtcdcLV4VVD",
    "outputId": "7b7ead59-29ae-4987-b86a-ef3f149bf1a0"
   },
   "outputs": [
    {
     "name": "stdout",
     "output_type": "stream",
     "text": [
      "Number of data points in train: 341\n",
      "Number of features in train: 88\n",
      "Number of data points in test: 119\n",
      "Number of features in test: 87\n"
     ]
    }
   ],
   "source": [
    "# check the number of features and data points in train\n",
    "print(\"Number of data points in train: %d\" % train_new.shape[0])\n",
    "print(\"Number of features in train: %d\" % train_new.shape[1])\n",
    "\n",
    "# check the number of features and data points in test\n",
    "print(\"Number of data points in test: %d\" % test_new.shape[0])\n",
    "print(\"Number of features in test: %d\" % test_new.shape[1])"
   ]
  },
  {
   "cell_type": "code",
   "execution_count": 15,
   "metadata": {
    "colab": {
     "base_uri": "https://localhost:8080/",
     "height": 290
    },
    "colab_type": "code",
    "id": "QVbHHV_24VVP",
    "outputId": "70493836-af4f-4b83-c4e8-e918d1295ee5"
   },
   "outputs": [
    {
     "data": {
      "text/html": [
       "<div>\n",
       "<style scoped>\n",
       "    .dataframe tbody tr th:only-of-type {\n",
       "        vertical-align: middle;\n",
       "    }\n",
       "\n",
       "    .dataframe tbody tr th {\n",
       "        vertical-align: top;\n",
       "    }\n",
       "\n",
       "    .dataframe thead th {\n",
       "        text-align: right;\n",
       "    }\n",
       "</style>\n",
       "<table border=\"1\" class=\"dataframe\">\n",
       "  <thead>\n",
       "    <tr style=\"text-align: right;\">\n",
       "      <th></th>\n",
       "      <th>PhoneId</th>\n",
       "      <th>Screen to Body Ratio (calculated)</th>\n",
       "      <th>RAM</th>\n",
       "      <th>Capacity</th>\n",
       "      <th>Height</th>\n",
       "      <th>Weight</th>\n",
       "      <th>Pixel Density</th>\n",
       "      <th>Resolution</th>\n",
       "      <th>Screen Size</th>\n",
       "      <th>Internal Memory</th>\n",
       "      <th>...</th>\n",
       "      <th>Num_cores_Quad</th>\n",
       "      <th>Num_cores_Tru-Octa</th>\n",
       "      <th>os_name_Android</th>\n",
       "      <th>os_name_Blackberry</th>\n",
       "      <th>os_name_KAI</th>\n",
       "      <th>os_name_Nokia</th>\n",
       "      <th>os_name_Other</th>\n",
       "      <th>os_name_Tizen</th>\n",
       "      <th>os_name_iOS</th>\n",
       "      <th>Rating</th>\n",
       "    </tr>\n",
       "  </thead>\n",
       "  <tbody>\n",
       "    <tr>\n",
       "      <th>0</th>\n",
       "      <td>0</td>\n",
       "      <td>80.68</td>\n",
       "      <td>4</td>\n",
       "      <td>4000</td>\n",
       "      <td>157.9</td>\n",
       "      <td>182</td>\n",
       "      <td>403</td>\n",
       "      <td>20</td>\n",
       "      <td>6.26</td>\n",
       "      <td>64</td>\n",
       "      <td>...</td>\n",
       "      <td>0</td>\n",
       "      <td>0</td>\n",
       "      <td>1</td>\n",
       "      <td>0</td>\n",
       "      <td>0</td>\n",
       "      <td>0</td>\n",
       "      <td>0</td>\n",
       "      <td>0</td>\n",
       "      <td>0</td>\n",
       "      <td>4.5</td>\n",
       "    </tr>\n",
       "    <tr>\n",
       "      <th>1</th>\n",
       "      <td>1</td>\n",
       "      <td>80.85</td>\n",
       "      <td>3</td>\n",
       "      <td>4230</td>\n",
       "      <td>156.2</td>\n",
       "      <td>168</td>\n",
       "      <td>271</td>\n",
       "      <td>8</td>\n",
       "      <td>6.20</td>\n",
       "      <td>32</td>\n",
       "      <td>...</td>\n",
       "      <td>0</td>\n",
       "      <td>0</td>\n",
       "      <td>1</td>\n",
       "      <td>0</td>\n",
       "      <td>0</td>\n",
       "      <td>0</td>\n",
       "      <td>0</td>\n",
       "      <td>0</td>\n",
       "      <td>0</td>\n",
       "      <td>4.5</td>\n",
       "    </tr>\n",
       "    <tr>\n",
       "      <th>2</th>\n",
       "      <td>2</td>\n",
       "      <td>83.68</td>\n",
       "      <td>3</td>\n",
       "      <td>3500</td>\n",
       "      <td>157.0</td>\n",
       "      <td>168</td>\n",
       "      <td>409</td>\n",
       "      <td>25</td>\n",
       "      <td>6.30</td>\n",
       "      <td>32</td>\n",
       "      <td>...</td>\n",
       "      <td>0</td>\n",
       "      <td>0</td>\n",
       "      <td>1</td>\n",
       "      <td>0</td>\n",
       "      <td>0</td>\n",
       "      <td>0</td>\n",
       "      <td>0</td>\n",
       "      <td>0</td>\n",
       "      <td>0</td>\n",
       "      <td>4.4</td>\n",
       "    </tr>\n",
       "    <tr>\n",
       "      <th>3</th>\n",
       "      <td>4</td>\n",
       "      <td>74.78</td>\n",
       "      <td>4</td>\n",
       "      <td>3300</td>\n",
       "      <td>159.8</td>\n",
       "      <td>169</td>\n",
       "      <td>411</td>\n",
       "      <td>24</td>\n",
       "      <td>6.00</td>\n",
       "      <td>64</td>\n",
       "      <td>...</td>\n",
       "      <td>0</td>\n",
       "      <td>0</td>\n",
       "      <td>1</td>\n",
       "      <td>0</td>\n",
       "      <td>0</td>\n",
       "      <td>0</td>\n",
       "      <td>0</td>\n",
       "      <td>0</td>\n",
       "      <td>0</td>\n",
       "      <td>4.3</td>\n",
       "    </tr>\n",
       "    <tr>\n",
       "      <th>4</th>\n",
       "      <td>5</td>\n",
       "      <td>84.23</td>\n",
       "      <td>4</td>\n",
       "      <td>3750</td>\n",
       "      <td>160.4</td>\n",
       "      <td>175</td>\n",
       "      <td>396</td>\n",
       "      <td>16</td>\n",
       "      <td>6.50</td>\n",
       "      <td>64</td>\n",
       "      <td>...</td>\n",
       "      <td>0</td>\n",
       "      <td>0</td>\n",
       "      <td>1</td>\n",
       "      <td>0</td>\n",
       "      <td>0</td>\n",
       "      <td>0</td>\n",
       "      <td>0</td>\n",
       "      <td>0</td>\n",
       "      <td>0</td>\n",
       "      <td>4.4</td>\n",
       "    </tr>\n",
       "  </tbody>\n",
       "</table>\n",
       "<p>5 rows × 88 columns</p>\n",
       "</div>"
      ],
      "text/plain": [
       "   PhoneId  Screen to Body Ratio (calculated)  RAM  Capacity  Height  Weight  \\\n",
       "0        0                              80.68    4      4000   157.9     182   \n",
       "1        1                              80.85    3      4230   156.2     168   \n",
       "2        2                              83.68    3      3500   157.0     168   \n",
       "3        4                              74.78    4      3300   159.8     169   \n",
       "4        5                              84.23    4      3750   160.4     175   \n",
       "\n",
       "   Pixel Density  Resolution  Screen Size  Internal Memory   ...    \\\n",
       "0            403          20         6.26               64   ...     \n",
       "1            271           8         6.20               32   ...     \n",
       "2            409          25         6.30               32   ...     \n",
       "3            411          24         6.00               64   ...     \n",
       "4            396          16         6.50               64   ...     \n",
       "\n",
       "   Num_cores_Quad  Num_cores_Tru-Octa  os_name_Android  os_name_Blackberry  \\\n",
       "0               0                   0                1                   0   \n",
       "1               0                   0                1                   0   \n",
       "2               0                   0                1                   0   \n",
       "3               0                   0                1                   0   \n",
       "4               0                   0                1                   0   \n",
       "\n",
       "   os_name_KAI  os_name_Nokia  os_name_Other  os_name_Tizen  os_name_iOS  \\\n",
       "0            0              0              0              0            0   \n",
       "1            0              0              0              0            0   \n",
       "2            0              0              0              0            0   \n",
       "3            0              0              0              0            0   \n",
       "4            0              0              0              0            0   \n",
       "\n",
       "   Rating  \n",
       "0     4.5  \n",
       "1     4.5  \n",
       "2     4.4  \n",
       "3     4.3  \n",
       "4     4.4  \n",
       "\n",
       "[5 rows x 88 columns]"
      ]
     },
     "execution_count": 15,
     "metadata": {},
     "output_type": "execute_result"
    }
   ],
   "source": [
    "train_new.head()"
   ]
  },
  {
   "cell_type": "code",
   "execution_count": 16,
   "metadata": {
    "colab": {
     "base_uri": "https://localhost:8080/",
     "height": 325
    },
    "colab_type": "code",
    "id": "eOnrYeFB4VVb",
    "outputId": "d6111f98-7166-4927-f7d3-7a921fc045fe"
   },
   "outputs": [
    {
     "data": {
      "text/html": [
       "<div>\n",
       "<style scoped>\n",
       "    .dataframe tbody tr th:only-of-type {\n",
       "        vertical-align: middle;\n",
       "    }\n",
       "\n",
       "    .dataframe tbody tr th {\n",
       "        vertical-align: top;\n",
       "    }\n",
       "\n",
       "    .dataframe thead th {\n",
       "        text-align: right;\n",
       "    }\n",
       "</style>\n",
       "<table border=\"1\" class=\"dataframe\">\n",
       "  <thead>\n",
       "    <tr style=\"text-align: right;\">\n",
       "      <th></th>\n",
       "      <th>PhoneId</th>\n",
       "      <th>Screen to Body Ratio (calculated)</th>\n",
       "      <th>RAM</th>\n",
       "      <th>Capacity</th>\n",
       "      <th>Height</th>\n",
       "      <th>Weight</th>\n",
       "      <th>Pixel Density</th>\n",
       "      <th>Resolution</th>\n",
       "      <th>Screen Size</th>\n",
       "      <th>Internal Memory</th>\n",
       "      <th>...</th>\n",
       "      <th>Num_cores_Other</th>\n",
       "      <th>Num_cores_Quad</th>\n",
       "      <th>Num_cores_Tru-Octa</th>\n",
       "      <th>os_name_Android</th>\n",
       "      <th>os_name_Blackberry</th>\n",
       "      <th>os_name_KAI</th>\n",
       "      <th>os_name_Nokia</th>\n",
       "      <th>os_name_Other</th>\n",
       "      <th>os_name_Tizen</th>\n",
       "      <th>os_name_iOS</th>\n",
       "    </tr>\n",
       "  </thead>\n",
       "  <tbody>\n",
       "    <tr>\n",
       "      <th>0</th>\n",
       "      <td>3</td>\n",
       "      <td>80.85</td>\n",
       "      <td>2</td>\n",
       "      <td>4230</td>\n",
       "      <td>156.2</td>\n",
       "      <td>168</td>\n",
       "      <td>271</td>\n",
       "      <td>5</td>\n",
       "      <td>6.20</td>\n",
       "      <td>16</td>\n",
       "      <td>...</td>\n",
       "      <td>0</td>\n",
       "      <td>0</td>\n",
       "      <td>0</td>\n",
       "      <td>1</td>\n",
       "      <td>0</td>\n",
       "      <td>0</td>\n",
       "      <td>0</td>\n",
       "      <td>0</td>\n",
       "      <td>0</td>\n",
       "      <td>0</td>\n",
       "    </tr>\n",
       "    <tr>\n",
       "      <th>1</th>\n",
       "      <td>11</td>\n",
       "      <td>81.60</td>\n",
       "      <td>4</td>\n",
       "      <td>5000</td>\n",
       "      <td>156.0</td>\n",
       "      <td>205</td>\n",
       "      <td>402</td>\n",
       "      <td>12</td>\n",
       "      <td>6.20</td>\n",
       "      <td>64</td>\n",
       "      <td>...</td>\n",
       "      <td>0</td>\n",
       "      <td>0</td>\n",
       "      <td>0</td>\n",
       "      <td>1</td>\n",
       "      <td>0</td>\n",
       "      <td>0</td>\n",
       "      <td>0</td>\n",
       "      <td>0</td>\n",
       "      <td>0</td>\n",
       "      <td>0</td>\n",
       "    </tr>\n",
       "    <tr>\n",
       "      <th>2</th>\n",
       "      <td>13</td>\n",
       "      <td>83.84</td>\n",
       "      <td>6</td>\n",
       "      <td>3500</td>\n",
       "      <td>156.7</td>\n",
       "      <td>169</td>\n",
       "      <td>409</td>\n",
       "      <td>25</td>\n",
       "      <td>6.30</td>\n",
       "      <td>64</td>\n",
       "      <td>...</td>\n",
       "      <td>0</td>\n",
       "      <td>0</td>\n",
       "      <td>0</td>\n",
       "      <td>1</td>\n",
       "      <td>0</td>\n",
       "      <td>0</td>\n",
       "      <td>0</td>\n",
       "      <td>0</td>\n",
       "      <td>0</td>\n",
       "      <td>0</td>\n",
       "    </tr>\n",
       "    <tr>\n",
       "      <th>3</th>\n",
       "      <td>16</td>\n",
       "      <td>83.84</td>\n",
       "      <td>4</td>\n",
       "      <td>3500</td>\n",
       "      <td>156.7</td>\n",
       "      <td>169</td>\n",
       "      <td>409</td>\n",
       "      <td>16</td>\n",
       "      <td>6.30</td>\n",
       "      <td>64</td>\n",
       "      <td>...</td>\n",
       "      <td>0</td>\n",
       "      <td>0</td>\n",
       "      <td>0</td>\n",
       "      <td>1</td>\n",
       "      <td>0</td>\n",
       "      <td>0</td>\n",
       "      <td>0</td>\n",
       "      <td>0</td>\n",
       "      <td>0</td>\n",
       "      <td>0</td>\n",
       "    </tr>\n",
       "    <tr>\n",
       "      <th>4</th>\n",
       "      <td>19</td>\n",
       "      <td>77.43</td>\n",
       "      <td>4</td>\n",
       "      <td>4000</td>\n",
       "      <td>158.6</td>\n",
       "      <td>181</td>\n",
       "      <td>403</td>\n",
       "      <td>20</td>\n",
       "      <td>5.99</td>\n",
       "      <td>64</td>\n",
       "      <td>...</td>\n",
       "      <td>0</td>\n",
       "      <td>0</td>\n",
       "      <td>0</td>\n",
       "      <td>1</td>\n",
       "      <td>0</td>\n",
       "      <td>0</td>\n",
       "      <td>0</td>\n",
       "      <td>0</td>\n",
       "      <td>0</td>\n",
       "      <td>0</td>\n",
       "    </tr>\n",
       "  </tbody>\n",
       "</table>\n",
       "<p>5 rows × 87 columns</p>\n",
       "</div>"
      ],
      "text/plain": [
       "   PhoneId  Screen to Body Ratio (calculated)  RAM  Capacity  Height  Weight  \\\n",
       "0        3                              80.85    2      4230   156.2     168   \n",
       "1       11                              81.60    4      5000   156.0     205   \n",
       "2       13                              83.84    6      3500   156.7     169   \n",
       "3       16                              83.84    4      3500   156.7     169   \n",
       "4       19                              77.43    4      4000   158.6     181   \n",
       "\n",
       "   Pixel Density  Resolution  Screen Size  Internal Memory     ...       \\\n",
       "0            271           5         6.20               16     ...        \n",
       "1            402          12         6.20               64     ...        \n",
       "2            409          25         6.30               64     ...        \n",
       "3            409          16         6.30               64     ...        \n",
       "4            403          20         5.99               64     ...        \n",
       "\n",
       "   Num_cores_Other  Num_cores_Quad  Num_cores_Tru-Octa  os_name_Android  \\\n",
       "0                0               0                   0                1   \n",
       "1                0               0                   0                1   \n",
       "2                0               0                   0                1   \n",
       "3                0               0                   0                1   \n",
       "4                0               0                   0                1   \n",
       "\n",
       "   os_name_Blackberry  os_name_KAI  os_name_Nokia  os_name_Other  \\\n",
       "0                   0            0              0              0   \n",
       "1                   0            0              0              0   \n",
       "2                   0            0              0              0   \n",
       "3                   0            0              0              0   \n",
       "4                   0            0              0              0   \n",
       "\n",
       "   os_name_Tizen  os_name_iOS  \n",
       "0              0            0  \n",
       "1              0            0  \n",
       "2              0            0  \n",
       "3              0            0  \n",
       "4              0            0  \n",
       "\n",
       "[5 rows x 87 columns]"
      ]
     },
     "execution_count": 16,
     "metadata": {},
     "output_type": "execute_result"
    }
   ],
   "source": [
    "test_new.head()"
   ]
  },
  {
   "cell_type": "code",
   "execution_count": 17,
   "metadata": {
    "colab": {},
    "colab_type": "code",
    "id": "eH9JThmH4ef0"
   },
   "outputs": [],
   "source": [
    "dropList = ['PhoneId', 'Capacity','RAM',\n",
    "       'Pixel Density', 'Weight','Screen Size','Internal Memory','Resolution',\n",
    "       'Height','Screen to Body Ratio (calculated)','Processor_frequency',\n",
    "       'SIM Slot(s)_Dual SIM, GSM+GSM',\n",
    "       'SIM Slot(s)_Dual SIM, GSM+GSM, Dual VoLTE',\n",
    "       'SIM Slot(s)_Single SIM, GSM',\n",
    "       'Num_cores_Dual', 'Num_cores_Hexa', 'Num_cores_Octa', 'Num_cores_Other',\n",
    "       'Num_cores_Quad', 'Sim1_2G', 'Sim1_3G', 'Sim1_4G',\n",
    "       'SIM 2_2G', 'SIM 2_3G', 'SIM 2_4G', 'SIM 2_Other',\n",
    "       'Brand_Asus','Brand_Blackberry',\n",
    "        'Brand_Do', 'Brand_Gionee','Brand_Yu','Brand_Panasonic',\n",
    "        'Brand_Honor',\n",
    "        'Brand_Infinix',  'Brand_Itel',\n",
    "         'Brand_Lava',\n",
    "       'Brand_Lenovo',\n",
    "       'Brand_Moto',\n",
    "       'Brand_Nokia',\n",
    "       'Brand_Oppo', \n",
    "        'Brand_Samsung',\n",
    "       'Brand_Tecno',  'Brand_Vivo',\n",
    "       'Brand_Xiaomi',\n",
    "       'os_name_Android' ,\n",
    "       'os_name_Other' , 'Rating',]\n"
   ]
  },
  {
   "cell_type": "code",
   "execution_count": 18,
   "metadata": {
    "colab": {},
    "colab_type": "code",
    "id": "6HRS-Z2S4w92"
   },
   "outputs": [],
   "source": [
    "X = train_new.drop(dropList,axis=1)"
   ]
  },
  {
   "cell_type": "code",
   "execution_count": 19,
   "metadata": {
    "colab": {},
    "colab_type": "code",
    "id": "yqP2mk3849aD"
   },
   "outputs": [],
   "source": [
    "y = [1 if k>=4 else 0 for k in train_new['Rating']]"
   ]
  },
  {
   "cell_type": "code",
   "execution_count": 20,
   "metadata": {
    "colab": {},
    "colab_type": "code",
    "id": "1yUD4fJv5ad5"
   },
   "outputs": [],
   "source": [
    "Y = np.array(y)"
   ]
  },
  {
   "cell_type": "code",
   "execution_count": 21,
   "metadata": {
    "colab": {
     "base_uri": "https://localhost:8080/",
     "height": 35
    },
    "colab_type": "code",
    "id": "JxfUpG6y5ex9",
    "outputId": "e28e96c1-d45d-47ba-d5f7-4ad0e6da6e05"
   },
   "outputs": [
    {
     "data": {
      "text/plain": [
       "(341, 41)"
      ]
     },
     "execution_count": 21,
     "metadata": {},
     "output_type": "execute_result"
    }
   ],
   "source": [
    "X.shape"
   ]
  },
  {
   "cell_type": "markdown",
   "metadata": {},
   "source": [
    "## The values of features below needs to be inversed, as they are inversly proportional"
   ]
  },
  {
   "cell_type": "code",
   "execution_count": 22,
   "metadata": {
    "colab": {},
    "colab_type": "code",
    "id": "YjodyxIX5mZZ"
   },
   "outputs": [],
   "source": [
    "X[ 'Num_cores_Deca'] = [0 if k==1 else 1 for k in X[ 'Num_cores_Deca']]"
   ]
  },
  {
   "cell_type": "code",
   "execution_count": 23,
   "metadata": {
    "colab": {},
    "colab_type": "code",
    "id": "lDO3mOI46DTu"
   },
   "outputs": [],
   "source": [
    "X[ 'os_name_Blackberry'] = [0 if k==1 else 1 for k in X[ 'os_name_Blackberry']]"
   ]
  },
  {
   "cell_type": "code",
   "execution_count": 24,
   "metadata": {
    "colab": {},
    "colab_type": "code",
    "id": "x6AfrPRt6NnT"
   },
   "outputs": [],
   "source": [
    "X[ 'Brand_Intex'] = [0 if k==1 else 1 for k in X[ 'Brand_Intex']]"
   ]
  },
  {
   "cell_type": "code",
   "execution_count": 25,
   "metadata": {
    "colab": {},
    "colab_type": "code",
    "id": "R3K_wlwg6Zbr"
   },
   "outputs": [],
   "source": [
    "X['os_name_Tizen'] = [0 if k==1 else 1 for k in X['os_name_Tizen']]"
   ]
  },
  {
   "cell_type": "code",
   "execution_count": 26,
   "metadata": {
    "colab": {},
    "colab_type": "code",
    "id": "WoDEYFvv6nCc"
   },
   "outputs": [],
   "source": [
    "X['Brand_Karbonn',] = [0 if k==1 else 1 for k in X['Brand_Karbonn']]"
   ]
  },
  {
   "cell_type": "code",
   "execution_count": 27,
   "metadata": {
    "colab": {},
    "colab_type": "code",
    "id": "wPHXf4_56y7m"
   },
   "outputs": [],
   "source": [
    "X['Brand_iVooMi'] = [0 if k==1 else 1 for k in X['Brand_iVooMi']]"
   ]
  },
  {
   "cell_type": "code",
   "execution_count": 28,
   "metadata": {
    "colab": {},
    "colab_type": "code",
    "id": "W4fkgIt07AS7"
   },
   "outputs": [],
   "source": [
    "X['Brand_VOTO'] = [0 if k==1 else 1 for k in X['Brand_VOTO']]"
   ]
  },
  {
   "cell_type": "code",
   "execution_count": 29,
   "metadata": {
    "colab": {},
    "colab_type": "code",
    "id": "DZmcgV8m7LHP"
   },
   "outputs": [],
   "source": [
    "X['os_name_KAI'] = [0 if k==1 else 1 for k in X['os_name_KAI']]"
   ]
  },
  {
   "cell_type": "code",
   "execution_count": 30,
   "metadata": {
    "colab": {},
    "colab_type": "code",
    "id": "m8YbnrRa7T4T"
   },
   "outputs": [],
   "source": [
    "X[ 'Brand_10.or'] = [0 if k==1 else 1 for k in X[ 'Brand_10.or']]"
   ]
  },
  {
   "cell_type": "code",
   "execution_count": 31,
   "metadata": {
    "colab": {},
    "colab_type": "code",
    "id": "ct61is-p7bK-"
   },
   "outputs": [],
   "source": [
    "X['Brand_Reliance'] = [0 if k==1 else 1 for k in X['Brand_Reliance']]"
   ]
  },
  {
   "cell_type": "code",
   "execution_count": 32,
   "metadata": {
    "colab": {},
    "colab_type": "code",
    "id": "qvQSd8t27e8F"
   },
   "outputs": [],
   "source": [
    "X['Brand_Nubia'] = [0 if k==1 else 1 for k in X['Brand_Nubia']]"
   ]
  },
  {
   "cell_type": "code",
   "execution_count": 33,
   "metadata": {
    "colab": {},
    "colab_type": "code",
    "id": "-yxZ7JCZ7guc"
   },
   "outputs": [],
   "source": [
    "X['Brand_Razer'] = [0 if k==1 else 1 for k in X['Brand_Razer']]"
   ]
  },
  {
   "cell_type": "code",
   "execution_count": 34,
   "metadata": {
    "colab": {},
    "colab_type": "code",
    "id": "9KaepN9F7hFo"
   },
   "outputs": [],
   "source": [
    "X['Brand_Coolpad'] = [0 if k==1 else 1 for k in X['Brand_Coolpad']]"
   ]
  },
  {
   "cell_type": "code",
   "execution_count": 35,
   "metadata": {
    "colab": {},
    "colab_type": "code",
    "id": "DwDOs0pN7mke"
   },
   "outputs": [],
   "source": [
    "X['Brand_Jivi'] = [0 if k==1 else 1 for k in X['Brand_Jivi']]"
   ]
  },
  {
   "cell_type": "code",
   "execution_count": 36,
   "metadata": {
    "colab": {},
    "colab_type": "code",
    "id": "M5S91aib7hot"
   },
   "outputs": [],
   "source": [
    "X['Brand_InFocus'] = [0 if k==1 else 1 for k in X['Brand_InFocus']]"
   ]
  },
  {
   "cell_type": "code",
   "execution_count": 37,
   "metadata": {
    "colab": {},
    "colab_type": "code",
    "id": "xhnKPjGJ7iQ5"
   },
   "outputs": [],
   "source": [
    "X['Brand_Lyf'] = [0 if k==1 else 1 for k in X['Brand_Lyf']]"
   ]
  },
  {
   "cell_type": "code",
   "execution_count": 38,
   "metadata": {
    "colab": {},
    "colab_type": "code",
    "id": "fI6ahKH-7ism"
   },
   "outputs": [],
   "source": [
    "X['Brand_Lephone'] = [0 if k==1 else 1 for k in X['Brand_Lephone']]"
   ]
  },
  {
   "cell_type": "code",
   "execution_count": null,
   "metadata": {
    "colab": {},
    "colab_type": "code",
    "id": "eE7hAlD7Fk60"
   },
   "outputs": [],
   "source": []
  },
  {
   "cell_type": "code",
   "execution_count": 39,
   "metadata": {
    "colab": {},
    "colab_type": "code",
    "id": "q_TsWq2P8l12"
   },
   "outputs": [],
   "source": [
    "X_train, X_test, Y_train, Y_test = train_test_split(X, Y, test_size=0.1, stratify = Y, random_state=42)"
   ]
  },
  {
   "cell_type": "code",
   "execution_count": 40,
   "metadata": {
    "colab": {
     "base_uri": "https://localhost:8080/",
     "height": 2322
    },
    "colab_type": "code",
    "id": "2-xfdHB48vWD",
    "outputId": "5cbf6645-56c6-44a4-d017-b3193fde77e6"
   },
   "outputs": [
    {
     "name": "stdout",
     "output_type": "stream",
     "text": [
      "SIM Slot(s)_Dual SIM, GSM+CDMA    0.003268\n",
      "Brand_10.or                       0.993464\n",
      "Brand_Apple                       0.058824\n",
      "Brand_Billion                     0.000000\n",
      "Brand_Comio                       0.003268\n",
      "Brand_Coolpad                     0.996732\n",
      "Brand_Google                      0.009804\n",
      "Brand_HTC                         0.019608\n",
      "Brand_Huawei                      0.016340\n",
      "Brand_InFocus                     0.990196\n",
      "Brand_Intex                       0.990196\n",
      "Brand_Jivi                        0.996732\n",
      "Brand_Karbonn                     0.006536\n",
      "Brand_LG                          0.026144\n",
      "Brand_LeEco                       0.003268\n",
      "Brand_Lephone                     1.000000\n",
      "Brand_Lyf                         1.000000\n",
      "Brand_Meizu                       0.006536\n",
      "Brand_Micromax                    0.042484\n",
      "Brand_Mobiistar                   0.013072\n",
      "Brand_Motorola                    0.003268\n",
      "Brand_Nubia                       0.996732\n",
      "Brand_OPPO                        0.039216\n",
      "Brand_OnePlus                     0.009804\n",
      "Brand_Razer                       0.996732\n",
      "Brand_Realme                      0.013072\n",
      "Brand_Reliance                    0.996732\n",
      "Brand_Sony                        0.016340\n",
      "Brand_Spice                       0.000000\n",
      "Brand_Ulefone                     0.003268\n",
      "Brand_VOTO                        1.000000\n",
      "Brand_Xiaomi Poco                 0.009804\n",
      "Brand_iVooMi                      0.996732\n",
      "Num_cores_312                     0.003268\n",
      "Num_cores_Deca                    0.993464\n",
      "Num_cores_Tru-Octa                0.003268\n",
      "os_name_Blackberry                0.993464\n",
      "os_name_KAI                       0.993464\n",
      "os_name_Nokia                     0.003268\n",
      "os_name_Tizen                     0.996732\n",
      "os_name_iOS                       0.058824\n",
      "(Brand_Karbonn,)                  0.993464\n",
      "dtype: float64 SIM Slot(s)_Dual SIM, GSM+CDMA    0.000000\n",
      "Brand_10.or                       1.000000\n",
      "Brand_Apple                       0.028571\n",
      "Brand_Billion                     0.000000\n",
      "Brand_Comio                       0.000000\n",
      "Brand_Coolpad                     0.971429\n",
      "Brand_Google                      0.028571\n",
      "Brand_HTC                         0.000000\n",
      "Brand_Huawei                      0.028571\n",
      "Brand_InFocus                     1.000000\n",
      "Brand_Intex                       0.971429\n",
      "Brand_Jivi                        1.000000\n",
      "Brand_Karbonn                     0.000000\n",
      "Brand_LG                          0.028571\n",
      "Brand_LeEco                       0.000000\n",
      "Brand_Lephone                     0.971429\n",
      "Brand_Lyf                         0.971429\n",
      "Brand_Meizu                       0.000000\n",
      "Brand_Micromax                    0.057143\n",
      "Brand_Mobiistar                   0.000000\n",
      "Brand_Motorola                    0.028571\n",
      "Brand_Nubia                       1.000000\n",
      "Brand_OPPO                        0.057143\n",
      "Brand_OnePlus                     0.000000\n",
      "Brand_Razer                       1.000000\n",
      "Brand_Realme                      0.000000\n",
      "Brand_Reliance                    1.000000\n",
      "Brand_Sony                        0.114286\n",
      "Brand_Spice                       0.000000\n",
      "Brand_Ulefone                     0.000000\n",
      "Brand_VOTO                        0.971429\n",
      "Brand_Xiaomi Poco                 0.000000\n",
      "Brand_iVooMi                      1.000000\n",
      "Num_cores_312                     0.000000\n",
      "Num_cores_Deca                    1.000000\n",
      "Num_cores_Tru-Octa                0.000000\n",
      "os_name_Blackberry                1.000000\n",
      "os_name_KAI                       1.000000\n",
      "os_name_Nokia                     0.000000\n",
      "os_name_Tizen                     1.000000\n",
      "os_name_iOS                       0.028571\n",
      "(Brand_Karbonn,)                  1.000000\n",
      "dtype: float64 SIM Slot(s)_Dual SIM, GSM+CDMA    0.002933\n",
      "Brand_10.or                       0.994135\n",
      "Brand_Apple                       0.055718\n",
      "Brand_Billion                     0.000000\n",
      "Brand_Comio                       0.002933\n",
      "Brand_Coolpad                     0.994135\n",
      "Brand_Google                      0.011730\n",
      "Brand_HTC                         0.017595\n",
      "Brand_Huawei                      0.017595\n",
      "Brand_InFocus                     0.991202\n",
      "Brand_Intex                       0.988270\n",
      "Brand_Jivi                        0.997067\n",
      "Brand_Karbonn                     0.005865\n",
      "Brand_LG                          0.026393\n",
      "Brand_LeEco                       0.002933\n",
      "Brand_Lephone                     0.997067\n",
      "Brand_Lyf                         0.997067\n",
      "Brand_Meizu                       0.005865\n",
      "Brand_Micromax                    0.043988\n",
      "Brand_Mobiistar                   0.011730\n",
      "Brand_Motorola                    0.005865\n",
      "Brand_Nubia                       0.997067\n",
      "Brand_OPPO                        0.041056\n",
      "Brand_OnePlus                     0.008798\n",
      "Brand_Razer                       0.997067\n",
      "Brand_Realme                      0.011730\n",
      "Brand_Reliance                    0.997067\n",
      "Brand_Sony                        0.026393\n",
      "Brand_Spice                       0.000000\n",
      "Brand_Ulefone                     0.002933\n",
      "Brand_VOTO                        0.997067\n",
      "Brand_Xiaomi Poco                 0.008798\n",
      "Brand_iVooMi                      0.997067\n",
      "Num_cores_312                     0.002933\n",
      "Num_cores_Deca                    0.994135\n",
      "Num_cores_Tru-Octa                0.002933\n",
      "os_name_Blackberry                0.994135\n",
      "os_name_KAI                       0.994135\n",
      "os_name_Nokia                     0.002933\n",
      "os_name_Tizen                     0.997067\n",
      "os_name_iOS                       0.055718\n",
      "(Brand_Karbonn,)                  0.994135\n",
      "dtype: float64\n"
     ]
    }
   ],
   "source": [
    "print(X_train.mean(), X_test.mean(), X.mean())"
   ]
  },
  {
   "cell_type": "code",
   "execution_count": 41,
   "metadata": {
    "colab": {},
    "colab_type": "code",
    "id": "eBuKVojv83xW"
   },
   "outputs": [],
   "source": [
    "class MPNeuron:\n",
    "  \n",
    "  def __init__(self):\n",
    "    self.b = None\n",
    "    \n",
    "  def model(self, x):\n",
    "    return(sum(x) >= self.b)\n",
    "  \n",
    "  def predict(self, X):\n",
    "    Y = []\n",
    "    for x in X:\n",
    "      result = self.model(x)\n",
    "      Y.append(result)\n",
    "    return np.array(Y)\n",
    "  \n",
    "  def fit(self, X, Y):\n",
    "    accuracy = {}\n",
    "    \n",
    "    for b in range(X.shape[1] + 1):\n",
    "      self.b = b\n",
    "      Y_pred = self.predict(X)\n",
    "      accuracy[b] = accuracy_score(Y_pred, Y)\n",
    "      \n",
    "    best_b = max(accuracy, key = accuracy.get)\n",
    "    self.b = best_b\n",
    "    \n",
    "    print('Optimal value of b is', best_b)\n",
    "    print('Highest accuracy is', accuracy[best_b])"
   ]
  },
  {
   "cell_type": "code",
   "execution_count": 42,
   "metadata": {
    "colab": {},
    "colab_type": "code",
    "id": "g6MnJ1nX9Sg5"
   },
   "outputs": [],
   "source": [
    "X_train1 = np.array(X_train)"
   ]
  },
  {
   "cell_type": "code",
   "execution_count": 43,
   "metadata": {
    "colab": {
     "base_uri": "https://localhost:8080/",
     "height": 53
    },
    "colab_type": "code",
    "id": "nzYhJKxt882j",
    "outputId": "69b8037c-4b53-49fb-ebe0-57cd452cdc74"
   },
   "outputs": [
    {
     "name": "stdout",
     "output_type": "stream",
     "text": [
      "Optimal value of b is 17\n",
      "Highest accuracy is 0.7647058823529411\n"
     ]
    }
   ],
   "source": [
    "mp_neuron = MPNeuron()\n",
    "mp_neuron.fit(X_train1, Y_train)"
   ]
  },
  {
   "cell_type": "code",
   "execution_count": 44,
   "metadata": {
    "colab": {},
    "colab_type": "code",
    "id": "zxi_v3JO9rRs"
   },
   "outputs": [],
   "source": [
    "X_test1 = np.array(X_test)"
   ]
  },
  {
   "cell_type": "code",
   "execution_count": 45,
   "metadata": {
    "colab": {
     "base_uri": "https://localhost:8080/",
     "height": 144
    },
    "colab_type": "code",
    "id": "9hD4wSka-UDI",
    "outputId": "bce5e528-3a47-4830-affa-6d58fe203da6"
   },
   "outputs": [
    {
     "data": {
      "text/plain": [
       "array([[0, 1, 0, ..., 1, 0, 1],\n",
       "       [0, 1, 0, ..., 1, 0, 1],\n",
       "       [0, 1, 0, ..., 1, 0, 1],\n",
       "       ...,\n",
       "       [0, 1, 0, ..., 1, 0, 1],\n",
       "       [0, 1, 0, ..., 1, 0, 1],\n",
       "       [0, 1, 0, ..., 1, 0, 1]], dtype=int64)"
      ]
     },
     "execution_count": 45,
     "metadata": {},
     "output_type": "execute_result"
    }
   ],
   "source": [
    "X_test1"
   ]
  },
  {
   "cell_type": "code",
   "execution_count": 46,
   "metadata": {
    "colab": {},
    "colab_type": "code",
    "id": "2DP1MP2u9jSZ"
   },
   "outputs": [],
   "source": [
    "Y_test_pred = mp_neuron.predict(X_test1)"
   ]
  },
  {
   "cell_type": "code",
   "execution_count": 47,
   "metadata": {
    "colab": {
     "base_uri": "https://localhost:8080/",
     "height": 90
    },
    "colab_type": "code",
    "id": "r8dRmjNU-mX5",
    "outputId": "d25093cd-cf90-48c7-d475-974581eaceb6"
   },
   "outputs": [
    {
     "data": {
      "text/plain": [
       "array([ True,  True,  True,  True,  True,  True,  True,  True,  True,\n",
       "        True, False, False, False,  True,  True,  True,  True,  True,\n",
       "        True,  True,  True, False,  True,  True,  True,  True, False,\n",
       "        True,  True,  True,  True,  True,  True,  True,  True])"
      ]
     },
     "execution_count": 47,
     "metadata": {},
     "output_type": "execute_result"
    }
   ],
   "source": [
    "Y_test_pred"
   ]
  },
  {
   "cell_type": "code",
   "execution_count": 48,
   "metadata": {
    "colab": {},
    "colab_type": "code",
    "id": "9OGDPr-R-rhh"
   },
   "outputs": [],
   "source": [
    "res_test = [1 if k==True else 0 for k in Y_test_pred]"
   ]
  },
  {
   "cell_type": "code",
   "execution_count": 49,
   "metadata": {
    "colab": {
     "base_uri": "https://localhost:8080/",
     "height": 35
    },
    "colab_type": "code",
    "id": "Pk6LlbQ1_S6i",
    "outputId": "2845ae08-c41e-4404-a7e8-6489460cbd49"
   },
   "outputs": [
    {
     "name": "stdout",
     "output_type": "stream",
     "text": [
      "0.8285714285714286\n"
     ]
    }
   ],
   "source": [
    "accuracy_test = accuracy_score(Y_test_pred, Y_test)\n",
    "print(accuracy_test)"
   ]
  },
  {
   "cell_type": "code",
   "execution_count": null,
   "metadata": {
    "colab": {},
    "colab_type": "code",
    "id": "2cii3TuQ_dVn"
   },
   "outputs": [],
   "source": []
  },
  {
   "cell_type": "code",
   "execution_count": 50,
   "metadata": {
    "colab": {},
    "colab_type": "code",
    "id": "MbSOCaVvAV-k"
   },
   "outputs": [],
   "source": [
    "test_drop = ['PhoneId','Capacity','RAM',\n",
    "       'Pixel Density', 'Weight','Screen Size','Internal Memory','Resolution',\n",
    "       'Height','Screen to Body Ratio (calculated)','Processor_frequency',\n",
    "       'SIM Slot(s)_Dual SIM, GSM+GSM',\n",
    "       'SIM Slot(s)_Dual SIM, GSM+GSM, Dual VoLTE',\n",
    "       'SIM Slot(s)_Single SIM, GSM',\n",
    "       'Num_cores_Dual', 'Num_cores_Hexa', 'Num_cores_Octa', 'Num_cores_Other',\n",
    "       'Num_cores_Quad', 'Sim1_2G', 'Sim1_3G', 'Sim1_4G',\n",
    "       'SIM 2_2G', 'SIM 2_3G', 'SIM 2_4G', 'SIM 2_Other',\n",
    "       'Brand_Asus','Brand_Blackberry',\n",
    "        'Brand_Do', 'Brand_Gionee',\n",
    "        'Brand_Honor',\n",
    "        'Brand_Infinix',  'Brand_Itel',\n",
    "         'Brand_Lava',\n",
    "       'Brand_Lenovo',\n",
    "       'Brand_Moto',\n",
    "       'Brand_Nokia',\n",
    "       'Brand_Oppo', \n",
    "        'Brand_Samsung',\n",
    "       'Brand_Tecno',  'Brand_Vivo',\n",
    "       'Brand_Xiaomi',\n",
    "       'os_name_Android' ,\n",
    "       'os_name_Other']\n"
   ]
  },
  {
   "cell_type": "code",
   "execution_count": 51,
   "metadata": {
    "colab": {},
    "colab_type": "code",
    "id": "cjrrxk1__khk"
   },
   "outputs": [],
   "source": [
    "Test = test_new.drop(test_drop,axis=1)"
   ]
  },
  {
   "cell_type": "code",
   "execution_count": 52,
   "metadata": {
    "colab": {
     "base_uri": "https://localhost:8080/",
     "height": 307
    },
    "colab_type": "code",
    "id": "uRJatv8W_zPk",
    "outputId": "dd311eea-90d6-43b9-e852-968c2ec7b22b"
   },
   "outputs": [
    {
     "data": {
      "text/html": [
       "<div>\n",
       "<style scoped>\n",
       "    .dataframe tbody tr th:only-of-type {\n",
       "        vertical-align: middle;\n",
       "    }\n",
       "\n",
       "    .dataframe tbody tr th {\n",
       "        vertical-align: top;\n",
       "    }\n",
       "\n",
       "    .dataframe thead th {\n",
       "        text-align: right;\n",
       "    }\n",
       "</style>\n",
       "<table border=\"1\" class=\"dataframe\">\n",
       "  <thead>\n",
       "    <tr style=\"text-align: right;\">\n",
       "      <th></th>\n",
       "      <th>SIM Slot(s)_Dual SIM, GSM+CDMA</th>\n",
       "      <th>Brand_10.or</th>\n",
       "      <th>Brand_Apple</th>\n",
       "      <th>Brand_Billion</th>\n",
       "      <th>Brand_Comio</th>\n",
       "      <th>Brand_Coolpad</th>\n",
       "      <th>Brand_Google</th>\n",
       "      <th>Brand_HTC</th>\n",
       "      <th>Brand_Huawei</th>\n",
       "      <th>Brand_InFocus</th>\n",
       "      <th>...</th>\n",
       "      <th>Brand_Yu</th>\n",
       "      <th>Brand_iVooMi</th>\n",
       "      <th>Num_cores_312</th>\n",
       "      <th>Num_cores_Deca</th>\n",
       "      <th>Num_cores_Tru-Octa</th>\n",
       "      <th>os_name_Blackberry</th>\n",
       "      <th>os_name_KAI</th>\n",
       "      <th>os_name_Nokia</th>\n",
       "      <th>os_name_Tizen</th>\n",
       "      <th>os_name_iOS</th>\n",
       "    </tr>\n",
       "  </thead>\n",
       "  <tbody>\n",
       "    <tr>\n",
       "      <th>0</th>\n",
       "      <td>0</td>\n",
       "      <td>0</td>\n",
       "      <td>0</td>\n",
       "      <td>0</td>\n",
       "      <td>0</td>\n",
       "      <td>0</td>\n",
       "      <td>0</td>\n",
       "      <td>0</td>\n",
       "      <td>0</td>\n",
       "      <td>0</td>\n",
       "      <td>...</td>\n",
       "      <td>0</td>\n",
       "      <td>0</td>\n",
       "      <td>0</td>\n",
       "      <td>0</td>\n",
       "      <td>0</td>\n",
       "      <td>0</td>\n",
       "      <td>0</td>\n",
       "      <td>0</td>\n",
       "      <td>0</td>\n",
       "      <td>0</td>\n",
       "    </tr>\n",
       "    <tr>\n",
       "      <th>1</th>\n",
       "      <td>0</td>\n",
       "      <td>0</td>\n",
       "      <td>0</td>\n",
       "      <td>0</td>\n",
       "      <td>0</td>\n",
       "      <td>0</td>\n",
       "      <td>0</td>\n",
       "      <td>0</td>\n",
       "      <td>0</td>\n",
       "      <td>0</td>\n",
       "      <td>...</td>\n",
       "      <td>0</td>\n",
       "      <td>0</td>\n",
       "      <td>0</td>\n",
       "      <td>0</td>\n",
       "      <td>0</td>\n",
       "      <td>0</td>\n",
       "      <td>0</td>\n",
       "      <td>0</td>\n",
       "      <td>0</td>\n",
       "      <td>0</td>\n",
       "    </tr>\n",
       "    <tr>\n",
       "      <th>2</th>\n",
       "      <td>0</td>\n",
       "      <td>0</td>\n",
       "      <td>0</td>\n",
       "      <td>0</td>\n",
       "      <td>0</td>\n",
       "      <td>0</td>\n",
       "      <td>0</td>\n",
       "      <td>0</td>\n",
       "      <td>0</td>\n",
       "      <td>0</td>\n",
       "      <td>...</td>\n",
       "      <td>0</td>\n",
       "      <td>0</td>\n",
       "      <td>0</td>\n",
       "      <td>0</td>\n",
       "      <td>0</td>\n",
       "      <td>0</td>\n",
       "      <td>0</td>\n",
       "      <td>0</td>\n",
       "      <td>0</td>\n",
       "      <td>0</td>\n",
       "    </tr>\n",
       "    <tr>\n",
       "      <th>3</th>\n",
       "      <td>0</td>\n",
       "      <td>0</td>\n",
       "      <td>0</td>\n",
       "      <td>0</td>\n",
       "      <td>0</td>\n",
       "      <td>0</td>\n",
       "      <td>0</td>\n",
       "      <td>0</td>\n",
       "      <td>0</td>\n",
       "      <td>0</td>\n",
       "      <td>...</td>\n",
       "      <td>0</td>\n",
       "      <td>0</td>\n",
       "      <td>0</td>\n",
       "      <td>0</td>\n",
       "      <td>0</td>\n",
       "      <td>0</td>\n",
       "      <td>0</td>\n",
       "      <td>0</td>\n",
       "      <td>0</td>\n",
       "      <td>0</td>\n",
       "    </tr>\n",
       "    <tr>\n",
       "      <th>4</th>\n",
       "      <td>0</td>\n",
       "      <td>0</td>\n",
       "      <td>0</td>\n",
       "      <td>0</td>\n",
       "      <td>0</td>\n",
       "      <td>0</td>\n",
       "      <td>0</td>\n",
       "      <td>0</td>\n",
       "      <td>0</td>\n",
       "      <td>0</td>\n",
       "      <td>...</td>\n",
       "      <td>0</td>\n",
       "      <td>0</td>\n",
       "      <td>0</td>\n",
       "      <td>0</td>\n",
       "      <td>0</td>\n",
       "      <td>0</td>\n",
       "      <td>0</td>\n",
       "      <td>0</td>\n",
       "      <td>0</td>\n",
       "      <td>0</td>\n",
       "    </tr>\n",
       "  </tbody>\n",
       "</table>\n",
       "<p>5 rows × 43 columns</p>\n",
       "</div>"
      ],
      "text/plain": [
       "   SIM Slot(s)_Dual SIM, GSM+CDMA  Brand_10.or  Brand_Apple  Brand_Billion  \\\n",
       "0                               0            0            0              0   \n",
       "1                               0            0            0              0   \n",
       "2                               0            0            0              0   \n",
       "3                               0            0            0              0   \n",
       "4                               0            0            0              0   \n",
       "\n",
       "   Brand_Comio  Brand_Coolpad  Brand_Google  Brand_HTC  Brand_Huawei  \\\n",
       "0            0              0             0          0             0   \n",
       "1            0              0             0          0             0   \n",
       "2            0              0             0          0             0   \n",
       "3            0              0             0          0             0   \n",
       "4            0              0             0          0             0   \n",
       "\n",
       "   Brand_InFocus     ...       Brand_Yu  Brand_iVooMi  Num_cores_312  \\\n",
       "0              0     ...              0             0              0   \n",
       "1              0     ...              0             0              0   \n",
       "2              0     ...              0             0              0   \n",
       "3              0     ...              0             0              0   \n",
       "4              0     ...              0             0              0   \n",
       "\n",
       "   Num_cores_Deca  Num_cores_Tru-Octa  os_name_Blackberry  os_name_KAI  \\\n",
       "0               0                   0                   0            0   \n",
       "1               0                   0                   0            0   \n",
       "2               0                   0                   0            0   \n",
       "3               0                   0                   0            0   \n",
       "4               0                   0                   0            0   \n",
       "\n",
       "   os_name_Nokia  os_name_Tizen  os_name_iOS  \n",
       "0              0              0            0  \n",
       "1              0              0            0  \n",
       "2              0              0            0  \n",
       "3              0              0            0  \n",
       "4              0              0            0  \n",
       "\n",
       "[5 rows x 43 columns]"
      ]
     },
     "execution_count": 52,
     "metadata": {},
     "output_type": "execute_result"
    }
   ],
   "source": [
    "Test.head()"
   ]
  },
  {
   "cell_type": "code",
   "execution_count": 53,
   "metadata": {
    "colab": {
     "base_uri": "https://localhost:8080/",
     "height": 35
    },
    "colab_type": "code",
    "id": "EYv_rXKCALGB",
    "outputId": "2adbf4f2-0e37-4da5-a6bd-98c104aa8e5a"
   },
   "outputs": [
    {
     "name": "stdout",
     "output_type": "stream",
     "text": [
      "(119, 87) (119, 43)\n"
     ]
    }
   ],
   "source": [
    "print(test_new.shape , Test.shape)"
   ]
  },
  {
   "cell_type": "code",
   "execution_count": 54,
   "metadata": {
    "colab": {},
    "colab_type": "code",
    "id": "WLbxhnhrArx4"
   },
   "outputs": [],
   "source": [
    "Test[ 'Num_cores_Deca'] = [0 if k==1 else 1 for k in Test[ 'Num_cores_Deca']]\n",
    "Test[ 'os_name_Blackberry'] = [0 if k==1 else 1 for k in Test[ 'os_name_Blackberry']]\n",
    "Test['Brand_Intex'] = [0 if k==1 else 1 for k in Test[ 'Brand_Intex']]\n",
    "Test['os_name_Tizen'] = [0 if k==1 else 1 for k in Test['os_name_Tizen']]\n",
    "Test['Brand_Karbonn',] = [0 if k==1 else 1 for k in Test['Brand_Karbonn']]\n",
    "Test['Brand_iVooMi'] = [0 if k==1 else 1 for k in Test['Brand_iVooMi']]\n",
    "Test['Brand_VOTO'] = [0 if k==1 else 1 for k in Test['Brand_VOTO']]\n",
    "Test['os_name_KAI'] = [0 if k==1 else 1 for k in Test['os_name_KAI']]\n",
    "Test[ 'Brand_10.or'] = [0 if k==1 else 1 for k in Test[ 'Brand_10.or']]\n",
    "Test['Brand_Reliance'] = [0 if k==1 else 1 for k in Test['Brand_Reliance']]\n",
    "Test['Brand_Nubia'] = [0 if k==1 else 1 for k in Test['Brand_Nubia']]\n",
    "Test['Brand_Razer'] = [0 if k==1 else 1 for k in Test['Brand_Razer']]\n",
    "Test['Brand_Coolpad'] = [0 if k==1 else 1 for k in Test['Brand_Coolpad']]\n",
    "Test['Brand_Jivi'] = [0 if k==1 else 1 for k in Test['Brand_Jivi']]\n",
    "Test['Brand_InFocus'] = [0 if k==1 else 1 for k in Test['Brand_InFocus']]\n",
    "Test['Brand_Lyf'] = [0 if k==1 else 1 for k in Test['Brand_Lyf']]\n",
    "Test['Brand_Lephone'] = [0 if k==1 else 1 for k in Test['Brand_Lephone']]\n"
   ]
  },
  {
   "cell_type": "code",
   "execution_count": null,
   "metadata": {
    "colab": {},
    "colab_type": "code",
    "id": "ksW-FwEXLhO5"
   },
   "outputs": [],
   "source": []
  },
  {
   "cell_type": "code",
   "execution_count": 55,
   "metadata": {
    "colab": {},
    "colab_type": "code",
    "id": "CX1UqeKICzz6"
   },
   "outputs": [],
   "source": [
    "Test1 = np.array(Test)"
   ]
  },
  {
   "cell_type": "code",
   "execution_count": 56,
   "metadata": {
    "colab": {},
    "colab_type": "code",
    "id": "O6aaZknbCvoQ"
   },
   "outputs": [],
   "source": [
    "Y_test_pred = mp_neuron.predict(Test1)"
   ]
  },
  {
   "cell_type": "code",
   "execution_count": 57,
   "metadata": {
    "colab": {
     "base_uri": "https://localhost:8080/",
     "height": 271
    },
    "colab_type": "code",
    "id": "Fr7Qra7vC7sb",
    "outputId": "21e372bc-6810-4ee3-84d8-0ad0c081a4d0"
   },
   "outputs": [
    {
     "data": {
      "text/plain": [
       "array([ True,  True,  True,  True,  True,  True,  True,  True,  True,\n",
       "        True,  True,  True,  True,  True,  True,  True,  True,  True,\n",
       "        True,  True,  True,  True,  True,  True,  True,  True,  True,\n",
       "        True,  True,  True,  True,  True,  True,  True,  True,  True,\n",
       "        True,  True,  True,  True,  True,  True,  True,  True,  True,\n",
       "        True,  True,  True, False,  True,  True,  True,  True,  True,\n",
       "        True, False,  True,  True,  True,  True,  True,  True,  True,\n",
       "        True,  True,  True,  True,  True,  True,  True,  True,  True,\n",
       "        True,  True,  True,  True,  True,  True,  True,  True,  True,\n",
       "        True,  True,  True,  True,  True,  True,  True,  True,  True,\n",
       "        True,  True,  True,  True,  True,  True,  True,  True, False,\n",
       "        True,  True,  True,  True,  True, False,  True,  True,  True,\n",
       "        True,  True,  True, False,  True,  True, False,  True,  True,\n",
       "        True,  True])"
      ]
     },
     "execution_count": 57,
     "metadata": {},
     "output_type": "execute_result"
    }
   ],
   "source": [
    "Y_test_pred"
   ]
  },
  {
   "cell_type": "code",
   "execution_count": 58,
   "metadata": {
    "colab": {},
    "colab_type": "code",
    "id": "9jI9xpd8DB6A"
   },
   "outputs": [],
   "source": [
    "res_test = [1 if k==True else 0 for k in Y_test_pred]"
   ]
  },
  {
   "cell_type": "code",
   "execution_count": 59,
   "metadata": {
    "colab": {
     "base_uri": "https://localhost:8080/",
     "height": 35
    },
    "colab_type": "code",
    "id": "B5J6PwUaEHGi",
    "outputId": "ddf6eaff-023b-440d-ce2d-3c7072f7c407"
   },
   "outputs": [
    {
     "data": {
      "text/plain": [
       "119"
      ]
     },
     "execution_count": 59,
     "metadata": {},
     "output_type": "execute_result"
    }
   ],
   "source": [
    "len(res_test)"
   ]
  },
  {
   "cell_type": "code",
   "execution_count": 60,
   "metadata": {
    "colab": {
     "base_uri": "https://localhost:8080/",
     "height": 55
    },
    "colab_type": "code",
    "id": "DPQhoCIyEOsR",
    "outputId": "7b772bc6-a0d7-4c75-8c30-2795b34fd1a9"
   },
   "outputs": [
    {
     "name": "stdout",
     "output_type": "stream",
     "text": [
      "[1, 1, 1, 1, 1, 1, 1, 1, 1, 1, 1, 1, 1, 1, 1, 1, 1, 1, 1, 1, 1, 1, 1, 1, 1, 1, 1, 1, 1, 1, 1, 1, 1, 1, 1, 1, 1, 1, 1, 1, 1, 1, 1, 1, 1, 1, 1, 1, 0, 1, 1, 1, 1, 1, 1, 0, 1, 1, 1, 1, 1, 1, 1, 1, 1, 1, 1, 1, 1, 1, 1, 1, 1, 1, 1, 1, 1, 1, 1, 1, 1, 1, 1, 1, 1, 1, 1, 1, 1, 1, 1, 1, 1, 1, 1, 1, 1, 1, 0, 1, 1, 1, 1, 1, 0, 1, 1, 1, 1, 1, 1, 0, 1, 1, 0, 1, 1, 1, 1]\n"
     ]
    }
   ],
   "source": [
    "print(res_test)"
   ]
  },
  {
   "cell_type": "markdown",
   "metadata": {
    "colab_type": "text",
    "id": "g2aI_G5y4VVj"
   },
   "source": [
    "## Dummy Solution"
   ]
  },
  {
   "cell_type": "code",
   "execution_count": 443,
   "metadata": {
    "colab": {
     "base_uri": "https://localhost:8080/",
     "height": 206
    },
    "colab_type": "code",
    "id": "fN6HjS1K4VVk",
    "outputId": "e611b81a-9c5c-4a0d-b177-32ca8fb6497b"
   },
   "outputs": [
    {
     "data": {
      "text/html": [
       "<div>\n",
       "<style scoped>\n",
       "    .dataframe tbody tr th:only-of-type {\n",
       "        vertical-align: middle;\n",
       "    }\n",
       "\n",
       "    .dataframe tbody tr th {\n",
       "        vertical-align: top;\n",
       "    }\n",
       "\n",
       "    .dataframe thead th {\n",
       "        text-align: right;\n",
       "    }\n",
       "</style>\n",
       "<table border=\"1\" class=\"dataframe\">\n",
       "  <thead>\n",
       "    <tr style=\"text-align: right;\">\n",
       "      <th></th>\n",
       "      <th>PhoneId</th>\n",
       "      <th>Class</th>\n",
       "    </tr>\n",
       "  </thead>\n",
       "  <tbody>\n",
       "    <tr>\n",
       "      <th>0</th>\n",
       "      <td>3</td>\n",
       "      <td>1</td>\n",
       "    </tr>\n",
       "    <tr>\n",
       "      <th>1</th>\n",
       "      <td>11</td>\n",
       "      <td>1</td>\n",
       "    </tr>\n",
       "    <tr>\n",
       "      <th>2</th>\n",
       "      <td>13</td>\n",
       "      <td>1</td>\n",
       "    </tr>\n",
       "    <tr>\n",
       "      <th>3</th>\n",
       "      <td>16</td>\n",
       "      <td>1</td>\n",
       "    </tr>\n",
       "    <tr>\n",
       "      <th>4</th>\n",
       "      <td>19</td>\n",
       "      <td>1</td>\n",
       "    </tr>\n",
       "  </tbody>\n",
       "</table>\n",
       "</div>"
      ],
      "text/plain": [
       "   PhoneId  Class\n",
       "0        3      1\n",
       "1       11      1\n",
       "2       13      1\n",
       "3       16      1\n",
       "4       19      1"
      ]
     },
     "execution_count": 443,
     "metadata": {
      "tags": []
     },
     "output_type": "execute_result"
    }
   ],
   "source": [
    "submission = pd.DataFrame({'PhoneId':test_new['PhoneId'], 'Class':res_test})\n",
    "submission = submission[['PhoneId', 'Class']]\n",
    "submission.head()"
   ]
  },
  {
   "cell_type": "code",
   "execution_count": 0,
   "metadata": {
    "colab": {},
    "colab_type": "code",
    "id": "FK4o_luy4VVx"
   },
   "outputs": [],
   "source": [
    "submission.to_csv(\"submissionF.csv\", index=False)"
   ]
  },
  {
   "cell_type": "code",
   "execution_count": 0,
   "metadata": {
    "colab": {},
    "colab_type": "code",
    "id": "-vqr_I9z4VV7"
   },
   "outputs": [],
   "source": [
    "\"\"\"\n",
    "WRITE YOUR MODELLING CODE HERE\n",
    "\"\"\""
   ]
  },
  {
   "cell_type": "code",
   "execution_count": 169,
   "metadata": {
    "colab": {
     "base_uri": "https://localhost:8080/",
     "height": 206
    },
    "colab_type": "code",
    "id": "N_k_Q4DI4bv-",
    "outputId": "2f748745-f592-4949-b430-9600eacbdb20"
   },
   "outputs": [
    {
     "data": {
      "text/html": [
       "<div>\n",
       "<style scoped>\n",
       "    .dataframe tbody tr th:only-of-type {\n",
       "        vertical-align: middle;\n",
       "    }\n",
       "\n",
       "    .dataframe tbody tr th {\n",
       "        vertical-align: top;\n",
       "    }\n",
       "\n",
       "    .dataframe thead th {\n",
       "        text-align: right;\n",
       "    }\n",
       "</style>\n",
       "<table border=\"1\" class=\"dataframe\">\n",
       "  <thead>\n",
       "    <tr style=\"text-align: right;\">\n",
       "      <th></th>\n",
       "      <th>PhoneId</th>\n",
       "      <th>Class</th>\n",
       "    </tr>\n",
       "  </thead>\n",
       "  <tbody>\n",
       "    <tr>\n",
       "      <th>114</th>\n",
       "      <td>464</td>\n",
       "      <td>0</td>\n",
       "    </tr>\n",
       "    <tr>\n",
       "      <th>115</th>\n",
       "      <td>467</td>\n",
       "      <td>1</td>\n",
       "    </tr>\n",
       "    <tr>\n",
       "      <th>116</th>\n",
       "      <td>469</td>\n",
       "      <td>1</td>\n",
       "    </tr>\n",
       "    <tr>\n",
       "      <th>117</th>\n",
       "      <td>471</td>\n",
       "      <td>1</td>\n",
       "    </tr>\n",
       "    <tr>\n",
       "      <th>118</th>\n",
       "      <td>473</td>\n",
       "      <td>1</td>\n",
       "    </tr>\n",
       "  </tbody>\n",
       "</table>\n",
       "</div>"
      ],
      "text/plain": [
       "     PhoneId  Class\n",
       "114      464      0\n",
       "115      467      1\n",
       "116      469      1\n",
       "117      471      1\n",
       "118      473      1"
      ]
     },
     "execution_count": 169,
     "metadata": {
      "tags": []
     },
     "output_type": "execute_result"
    }
   ],
   "source": [
    "submission.tail()"
   ]
  },
  {
   "cell_type": "code",
   "execution_count": 0,
   "metadata": {
    "colab": {},
    "colab_type": "code",
    "id": "Juvyukg8Eosl"
   },
   "outputs": [],
   "source": []
  }
 ],
 "metadata": {
  "colab": {
   "name": "6th_last.ipynb",
   "provenance": [],
   "toc_visible": true,
   "version": "0.3.2"
  },
  "kernelspec": {
   "display_name": "Python 3",
   "language": "python",
   "name": "python3"
  },
  "language_info": {
   "codemirror_mode": {
    "name": "ipython",
    "version": 3
   },
   "file_extension": ".py",
   "mimetype": "text/x-python",
   "name": "python",
   "nbconvert_exporter": "python",
   "pygments_lexer": "ipython3",
   "version": "3.6.5"
  }
 },
 "nbformat": 4,
 "nbformat_minor": 1
}
